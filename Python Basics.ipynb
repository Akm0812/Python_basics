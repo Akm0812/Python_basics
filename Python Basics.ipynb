{
 "cells": [
  {
   "cell_type": "code",
   "execution_count": 1,
   "id": "d37d53d0-d608-4cb5-b8b2-273a4827a9f7",
   "metadata": {},
   "outputs": [],
   "source": [
    "#Q 1--Explain the key featu$es of Python that make it a popula$ choice for programming\n",
    "\n",
    "#ANSWER\n",
    "# Python is easy to learn and use, object-oriented, interpreted, cross-platform, has an extensive standard library, is dynamically typed, supports multiple programming paradigms, is free and open source, and supports databases and GUI programming.\n"
   ]
  },
  {
   "cell_type": "code",
   "execution_count": 2,
   "id": "9bda09d8-3838-4b3d-b418-cc98ac208843",
   "metadata": {},
   "outputs": [
    {
     "name": "stdout",
     "output_type": "stream",
     "text": [
      "\n",
      "Here is a list of the Python keywords.  Enter any keyword to get more help.\n",
      "\n",
      "False               class               from                or\n",
      "None                continue            global              pass\n",
      "True                def                 if                  raise\n",
      "and                 del                 import              return\n",
      "as                  elif                in                  try\n",
      "assert              else                is                  while\n",
      "async               except              lambda              with\n",
      "await               finally             nonlocal            yield\n",
      "break               for                 not                 \n",
      "\n"
     ]
    }
   ],
   "source": [
    "#Q 2--Describe the Role of p$edefined keywords in Python and p$ovide examples of how they a$e used in a program?\n",
    "\n",
    "#ANSWER\n",
    "\n",
    "#Python Keywords are some predefined and reserved words in Python that have special meanings. Keywords are used to define the syntax of the coding. The keyword cannot be used as an identifier, function, or variable name. All the keywords in Python are written in lowercase except True and False.\n",
    "help(\"keywords\")"
   ]
  },
  {
   "cell_type": "code",
   "execution_count": 5,
   "id": "c5bf5d13-9baf-493e-901e-dae689c52d52",
   "metadata": {},
   "outputs": [
    {
     "data": {
      "text/plain": [
       "[1, 2, 3, 4, 'navin', 'rahul']"
      ]
     },
     "execution_count": 5,
     "metadata": {},
     "output_type": "execute_result"
    }
   ],
   "source": [
    "#Q 3--Compare and contrast mutable and immutable objects in Python with examples.\n",
    "\n",
    "#ANSWER\n",
    "\n",
    "#Mutable objects in Python are those that can be changed after they are created, like lists or dictionaries. Immutable objects, on the other hand, cannot be changed after they are created, such as strings, integers, or tuples.\n",
    "\n",
    "#Examples'\n",
    "#mutability code\n",
    "list=[1,2,3,4,\"ashu\",\"rahul\"]\n",
    "list[4]=\"navin\"\n",
    "list\n"
   ]
  },
  {
   "cell_type": "code",
   "execution_count": 6,
   "id": "6e29280c-9c1b-4dd5-b296-ec6854605893",
   "metadata": {},
   "outputs": [
    {
     "ename": "NameError",
     "evalue": "name 'String' is not defined",
     "output_type": "error",
     "traceback": [
      "\u001b[0;31m---------------------------------------------------------------------------\u001b[0m",
      "\u001b[0;31mNameError\u001b[0m                                 Traceback (most recent call last)",
      "Cell \u001b[0;32mIn[6], line 3\u001b[0m\n\u001b[1;32m      1\u001b[0m \u001b[38;5;66;03m#Immutability\u001b[39;00m\n\u001b[1;32m      2\u001b[0m string\u001b[38;5;241m=\u001b[39m \u001b[38;5;124m\"\u001b[39m\u001b[38;5;124mAshutosh\u001b[39m\u001b[38;5;124m\"\u001b[39m\n\u001b[0;32m----> 3\u001b[0m \u001b[43mString\u001b[49m\n\u001b[1;32m      4\u001b[0m string[\u001b[38;5;241m0\u001b[39m]\u001b[38;5;241m=\u001b[39m\u001b[38;5;124m\"\u001b[39m\u001b[38;5;124mn\u001b[39m\u001b[38;5;124m\"\u001b[39m\n",
      "\u001b[0;31mNameError\u001b[0m: name 'String' is not defined"
     ]
    }
   ],
   "source": [
    "#Immutability\n",
    "string= \"Ashutosh\"\n",
    "String\n",
    "string[0]=\"n\""
   ]
  },
  {
   "cell_type": "code",
   "execution_count": 8,
   "id": "679c89fa-1981-418c-acb7-47405035f1b4",
   "metadata": {},
   "outputs": [
    {
     "ename": "SyntaxError",
     "evalue": "invalid syntax (3669750745.py, line 11)",
     "output_type": "error",
     "traceback": [
      "\u001b[0;36m  Cell \u001b[0;32mIn[8], line 11\u001b[0;36m\u001b[0m\n\u001b[0;31m    Python language supports various types of operators, which are:\u001b[0m\n\u001b[0m           ^\u001b[0m\n\u001b[0;31mSyntaxError\u001b[0m\u001b[0;31m:\u001b[0m invalid syntax\n"
     ]
    }
   ],
   "source": [
    "#Q 4--Discuss the different types of operators in Python and provide examples of how they are used.\n",
    "\n",
    "#ANSWER\n",
    "\n",
    "\n",
    "\n",
    "\n",
    "#In Python, operators are special symbols or keywords that carry out operations on values and python variables. They serve as a basis for expressions, which are used to modify data and execute computations. Python contains several operators, each with its unique purpose.\n",
    "\n",
    "#Types of Python Operators\n",
    "Python language supports various types of operators, which are:\n",
    "Arithmetic Operators\n",
    "Comparison (Relational) Operators\n",
    "Assignment Operators\n",
    "Logical Operators\n",
    "Bitwise Operators\n",
    "Membership Operators\n",
    "Identity Operators\n",
    "\n",
    "\n",
    "\n",
    "\n"
   ]
  },
  {
   "cell_type": "code",
   "execution_count": 10,
   "id": "9d967c04-01d9-4518-8538-9896d6a93898",
   "metadata": {},
   "outputs": [
    {
     "data": {
      "text/plain": [
       "16"
      ]
     },
     "execution_count": 10,
     "metadata": {},
     "output_type": "execute_result"
    }
   ],
   "source": [
    "#Examples of operators\n",
    "\n",
    "#addition\n",
    "a=2+3\n",
    "#multiplication\n",
    "b=10*5\n",
    "#modulas\n",
    "c=20%4\n",
    "#exponental power\n",
    "d=2**4\n",
    "a\n",
    "b\n",
    "c\n",
    "d"
   ]
  },
  {
   "cell_type": "code",
   "execution_count": 1,
   "id": "9c0d599d-3138-4a15-b931-3c37304bdb35",
   "metadata": {},
   "outputs": [
    {
     "name": "stdout",
     "output_type": "stream",
     "text": [
      "<class 'int'>\n"
     ]
    }
   ],
   "source": [
    "#Q 5--Explain the concept of type casting in Python with examples\n",
    "\n",
    "#ANSWER\n",
    "#The conversion of one data type into the other data type is known as type casting in python or type conversion in python. Python supports a wide variety of functions or methods like: int(), float(), str(), ord(), hex(), oct(), tuple(), set(), list(), dict(), etc.\n",
    "#Example<<Python Implicit Type Conversion<auto assigned value to integer\n",
    "a=7\n",
    "print(type(a))"
   ]
  },
  {
   "cell_type": "code",
   "execution_count": 10,
   "id": "d11d427a-d257-416a-b625-b5deb0366366",
   "metadata": {},
   "outputs": [
    {
     "data": {
      "text/plain": [
       "10"
      ]
     },
     "execution_count": 10,
     "metadata": {},
     "output_type": "execute_result"
    }
   ],
   "source": [
    "#Example<<explicit type coversion<float to integer\n",
    "a=10.23\n",
    "b=int(a)\n",
    "b\n"
   ]
  },
  {
   "cell_type": "code",
   "execution_count": 11,
   "id": "7ae00dd9-d4f1-4b00-b643-ed26d9f15662",
   "metadata": {},
   "outputs": [
    {
     "name": "stdout",
     "output_type": "stream",
     "text": [
      "<class 'int'>\n"
     ]
    }
   ],
   "source": [
    "print(type(b))"
   ]
  },
  {
   "cell_type": "code",
   "execution_count": 12,
   "id": "8ecdb803-6d21-40a0-9a8d-a963fe34a6d3",
   "metadata": {},
   "outputs": [
    {
     "name": "stdout",
     "output_type": "stream",
     "text": [
      "10 greater than 5\n",
      "Program ended\n"
     ]
    }
   ],
   "source": [
    "#Q 6-- How do conditional statements work in Python? Illustrate with examples\n",
    "\n",
    "#ANSWER\n",
    "# A conditional expression in Python is an expression  whose value depends on a condition. \n",
    "#If the condition is True, the code block indented below the if statement will be executed. If the condition is False, the code block will be skipped. \n",
    "\n",
    "# Types of conditional statement>>if>>if-elif>>if-else>>nested-if\n",
    "#Examples>if\n",
    "if 10 > 5: \n",
    "    print(\"10 greater than 5\") \n",
    "  \n",
    "print(\"Program ended\")"
   ]
  },
  {
   "cell_type": "code",
   "execution_count": 13,
   "id": "f544b6bb-8187-467c-ab2e-e94bafde316b",
   "metadata": {},
   "outputs": [
    {
     "name": "stdout",
     "output_type": "stream",
     "text": [
      "No\n"
     ]
    }
   ],
   "source": [
    "#If-else\n",
    "x = 3\n",
    "if x == 4: \n",
    "    print(\"Yes\") \n",
    "else: \n",
    "    print(\"No\") "
   ]
  },
  {
   "cell_type": "code",
   "execution_count": 14,
   "id": "5e88b40c-2f1f-492e-bc43-2a5cda658407",
   "metadata": {},
   "outputs": [
    {
     "name": "stdout",
     "output_type": "stream",
     "text": [
      "letter is A\n"
     ]
    }
   ],
   "source": [
    "#nested-if\n",
    "letter = \"A\"\n",
    "  \n",
    "if letter == \"B\": \n",
    "    print(\"letter is B\") \n",
    "  \n",
    "else: \n",
    "  \n",
    "    if letter == \"C\": \n",
    "        print(\"letter is C\") \n",
    "  \n",
    "    else: \n",
    "  \n",
    "        if letter == \"A\": \n",
    "            print(\"letter is A\") \n",
    "  \n",
    "        else: \n",
    "            print(\"letter isn't A, B and C\") "
   ]
  },
  {
   "cell_type": "code",
   "execution_count": 15,
   "id": "23e53eed-fb7a-4a0e-a60d-7beac9faf017",
   "metadata": {},
   "outputs": [
    {
     "name": "stdout",
     "output_type": "stream",
     "text": [
      "0\n",
      "1\n",
      "2\n",
      "3\n"
     ]
    }
   ],
   "source": [
    "#Q 7-- Describe the different types of loops in Python and their use cases with examples.\n",
    "\n",
    "#ANSWER\n",
    "#There are two types of loops in python: for loop and while loop.\n",
    "\n",
    "#for loop>>When the number of iterations is known or fixed>>Examples>>list, tuple, set, dictionary, and string\n",
    "#syntax\n",
    "n = 4\n",
    "for i in range(0, n):\n",
    "    print(i)\n"
   ]
  },
  {
   "cell_type": "code",
   "execution_count": 16,
   "id": "89edbfcc-05d5-4815-bef0-1dd87cf0d175",
   "metadata": {},
   "outputs": [
    {
     "name": "stdout",
     "output_type": "stream",
     "text": [
      "1 1\n",
      "1 2\n",
      "1 3\n",
      "2 1\n",
      "2 2\n",
      "2 3\n",
      "3 1\n",
      "3 2\n",
      "3 3\n"
     ]
    }
   ],
   "source": [
    "#Use case<<Nested For Loops in Python\n",
    "for i in range(1, 4):\n",
    "    for j in range(1, 4):\n",
    "        print(i, j)"
   ]
  },
  {
   "cell_type": "code",
   "execution_count": 1,
   "id": "d3c4f7c4-a148-411e-aabd-63f5c7a1a891",
   "metadata": {},
   "outputs": [
    {
     "name": "stdout",
     "output_type": "stream",
     "text": [
      "Hello Hello Hello "
     ]
    }
   ],
   "source": [
    "#While Loop>> used to repeat a specific block of code an unknown number of times, until a condition is met.\n",
    "#syntax\n",
    "count = 0\n",
    "while (count < 3):\n",
    "    count = count + 1\n",
    "    print(\"Hello\",end=\" \")"
   ]
  },
  {
   "cell_type": "code",
   "execution_count": 15,
   "id": "7686c635-7cef-4376-a17f-1c6fcee0cd90",
   "metadata": {},
   "outputs": [
    {
     "name": "stdout",
     "output_type": "stream",
     "text": [
      "* @ * @ * @ #\n",
      "* @ * @ * @ #\n",
      "* @ * @ * @ #\n"
     ]
    }
   ],
   "source": [
    "#Use case <<To print pattern\n",
    "row=1\n",
    "while row<=3:\n",
    "    col= 1\n",
    "    while col<=3:\n",
    "        print(\"*\",end=\" @ \")\n",
    "        col=col+1\n",
    "    print(\"#\")  \n",
    "    row=row+1\n",
    "        "
   ]
  },
  {
   "cell_type": "code",
   "execution_count": null,
   "id": "b6f0ce74-5fad-4388-a7b3-3f1f35137498",
   "metadata": {},
   "outputs": [],
   "source": [
    "###################            End of Assignement                     ###########################"
   ]
  }
 ],
 "metadata": {
  "kernelspec": {
   "display_name": "Python 3 (ipykernel)",
   "language": "python",
   "name": "python3"
  },
  "language_info": {
   "codemirror_mode": {
    "name": "ipython",
    "version": 3
   },
   "file_extension": ".py",
   "mimetype": "text/x-python",
   "name": "python",
   "nbconvert_exporter": "python",
   "pygments_lexer": "ipython3",
   "version": "3.10.8"
  }
 },
 "nbformat": 4,
 "nbformat_minor": 5
}
